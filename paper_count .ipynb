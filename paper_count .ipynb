{
 "cells": [
  {
   "cell_type": "code",
   "execution_count": 1,
   "metadata": {},
   "outputs": [],
   "source": [
    "import os\n",
    "import pandas as pd\n",
    "import numpy as np\n",
    "import io\n",
    "import nltk\n",
    "import matplotlib.pyplot as plt"
   ]
  },
  {
   "cell_type": "code",
   "execution_count": 36,
   "metadata": {},
   "outputs": [
    {
     "name": "stdout",
     "output_type": "stream",
     "text": [
      "     Number                                              Title  \\\n",
      "0  2018-044                     Understanding Cryptocurrencies   \n",
      "1  2018-043     Textual Sentiment and Sector specific reaction   \n",
      "2  2018-042  On Complete Convergence in Marcinkiewicz-Zygmu...   \n",
      "3  2018-041  On complete convergence in Marcinkiewicz-Zygmu...   \n",
      "4  2018-040  Complete Convergence and Complete Moment Conve...   \n",
      "5  2018-039          Penalized Adaptive Forecasting with Large   \n",
      "6       NaN            Information Sets and Structural Changes   \n",
      "7  2018-038                               Tail-Risk Protection   \n",
      "8       NaN                                 Trading Strategies   \n",
      "9  2018-037  Default probabilities and default correlations...   \n",
      "\n",
      "                                             Authors Date of Issue  \\\n",
      "0  Wolfgang Karl H?rdle,?Campbell R. Harvey, Raph...    06.09.2018   \n",
      "1  Elisabeth Bommes, Cathy Yi-Hsuan Chen and Wolf...    03.09.2018   \n",
      "2                                         Ji Gao YAN    27.08.2018   \n",
      "3                     Anna Kuczmaszewska, Ji Gao YAN    27.08.2018   \n",
      "4                                         Ji Gao YAN    27.08.2018   \n",
      "5       Lenka Zbonakova, Xinjue Li and Wolfgang Karl    23.08.2018   \n",
      "6                                             H?rdle           NaN   \n",
      "7                            Natalie Packham, Jochen    02.08.2018   \n",
      "8    Papenbrock, Peter Schwendner, Fabian Woebbeking           NaN   \n",
      "9  Natalie Packham, Michael Kalkbrener, Ludger Ov...    02.08.2018   \n",
      "\n",
      "                                           JEL  \n",
      "0  C01, C58, E42, E51, G10, K24, K42, L86, O31  \n",
      "1                                C81, G14, G17  \n",
      "2                                          C00  \n",
      "3                                          C00  \n",
      "4                                          C00  \n",
      "5                      C12, C13, C50, E47, G12  \n",
      "6                                          NaN  \n",
      "7                                C15, G11, G17  \n",
      "8                                          NaN  \n",
      "9                                          C00  \n"
     ]
    }
   ],
   "source": [
    "DP = pd.read_csv(\"DP.csv\",encoding = 'cp1252')\n",
    "print(DP.head(10))"
   ]
  },
  {
   "cell_type": "code",
   "execution_count": null,
   "metadata": {},
   "outputs": [],
   "source": []
  },
  {
   "cell_type": "code",
   "execution_count": 6,
   "metadata": {},
   "outputs": [],
   "source": [
    " \n",
    "def Pub_filter(name):\n",
    "    number_find = 0\n",
    "    tag = str(name)\n",
    "    for i in range(0,len(DP['Authors'])):\n",
    "        if tag in str(reg['Authors'][i]):\n",
    "            number_find = number_find+1\n",
    "    return number_find\n"
   ]
  },
  {
   "cell_type": "markdown",
   "metadata": {},
   "source": []
  },
  {
   "cell_type": "code",
   "execution_count": 15,
   "metadata": {},
   "outputs": [
    {
     "data": {
      "text/plain": [
       "46"
      ]
     },
     "execution_count": 15,
     "metadata": {},
     "output_type": "execute_result"
    }
   ],
   "source": [
    "PI_filter('Wolfgang')"
   ]
  },
  {
   "cell_type": "code",
   "execution_count": 16,
   "metadata": {},
   "outputs": [
    {
     "data": {
      "text/plain": [
       "4"
      ]
     },
     "execution_count": 16,
     "metadata": {},
     "output_type": "execute_result"
    }
   ],
   "source": [
    "PI_filter('Breunig')"
   ]
  },
  {
   "cell_type": "code",
   "execution_count": 17,
   "metadata": {},
   "outputs": [
    {
     "data": {
      "text/plain": [
       "4"
      ]
     },
     "execution_count": 17,
     "metadata": {},
     "output_type": "execute_result"
    }
   ],
   "source": [
    "PI_filter('Burda')"
   ]
  },
  {
   "cell_type": "code",
   "execution_count": 18,
   "metadata": {},
   "outputs": [
    {
     "data": {
      "text/plain": [
       "0"
      ]
     },
     "execution_count": 18,
     "metadata": {},
     "output_type": "execute_result"
    }
   ],
   "source": [
    "PI_filter('Fitzenberger')"
   ]
  },
  {
   "cell_type": "code",
   "execution_count": 24,
   "metadata": {},
   "outputs": [
    {
     "data": {
      "text/plain": [
       "5"
      ]
     },
     "execution_count": 24,
     "metadata": {},
     "output_type": "execute_result"
    }
   ],
   "source": [
    "PI_filter('Lessmann')"
   ]
  },
  {
   "cell_type": "code",
   "execution_count": 26,
   "metadata": {},
   "outputs": [
    {
     "data": {
      "text/plain": [
       "0"
      ]
     },
     "execution_count": 26,
     "metadata": {},
     "output_type": "execute_result"
    }
   ],
   "source": [
    "PI_filter('Reiss')"
   ]
  },
  {
   "cell_type": "code",
   "execution_count": 29,
   "metadata": {},
   "outputs": [
    {
     "data": {
      "text/plain": [
       "6"
      ]
     },
     "execution_count": 29,
     "metadata": {},
     "output_type": "execute_result"
    }
   ],
   "source": [
    "PI_filter('Brenda')"
   ]
  },
  {
   "cell_type": "code",
   "execution_count": 63,
   "metadata": {},
   "outputs": [
    {
     "data": {
      "text/plain": [
       "9"
      ]
     },
     "execution_count": 63,
     "metadata": {},
     "output_type": "execute_result"
    }
   ],
   "source": [
    "PI_filter('Vladimir Spokoiny')"
   ]
  },
  {
   "cell_type": "code",
   "execution_count": 62,
   "metadata": {},
   "outputs": [
    {
     "data": {
      "text/plain": [
       "7"
      ]
     },
     "execution_count": 62,
     "metadata": {},
     "output_type": "execute_result"
    }
   ],
   "source": [
    "PI_filter('Weining Wang')"
   ]
  },
  {
   "cell_type": "code",
   "execution_count": 60,
   "metadata": {},
   "outputs": [
    {
     "data": {
      "text/plain": [
       "0"
      ]
     },
     "execution_count": 60,
     "metadata": {},
     "output_type": "execute_result"
    }
   ],
   "source": [
    "PI_filter('Winkelmann')"
   ]
  },
  {
   "cell_type": "code",
   "execution_count": 38,
   "metadata": {},
   "outputs": [
    {
     "name": "stdout",
     "output_type": "stream",
     "text": [
      "                                                List\n",
      "0  1. Moro RA, H?rdle WK, Sch?fer D (2017) Compan...\n",
      "1  2. Liu R, H?rdle WK, Zhang G (2017) Statistica...\n",
      "2  3. H?rdle WK, Osipenko M (2017) Dynamic Valuat...\n",
      "3  4. Belomestny D, H?rdle WK, Krymova E (2017) S...\n",
      "4  5. Chao SK, H?rdle WK, Huang C (2018) Multivar...\n",
      "5  6. Linton M, Teo EGS, Bommes E, Chen CYH, H?rd...\n",
      "6  7. H?rdle W K, Phoon KF, Lee D (2017) Credit R...\n",
      "7  8.?Chen CYH, Chiang CT, H?rdle WK (2018) Downs...\n",
      "8  9.?Zharova A, Tellinger-Rice J, H?rdle WK (201...\n",
      "9  List of all publications by IRTG students AFTE...\n"
     ]
    }
   ],
   "source": [
    "Pub = pd.read_csv(\"Pub.csv\",encoding = 'cp1252')\n",
    "print(Pub.head(10))"
   ]
  },
  {
   "cell_type": "code",
   "execution_count": 41,
   "metadata": {},
   "outputs": [],
   "source": [
    "def Pub_filter(name):\n",
    "    number_find = 0\n",
    "    tag = str(name)\n",
    "    for i in range(0,len(Pub['List'])):\n",
    "        if tag in str(Pub['List'][i]):\n",
    "            number_find = number_find+1\n",
    "    return number_find"
   ]
  },
  {
   "cell_type": "code",
   "execution_count": 47,
   "metadata": {},
   "outputs": [
    {
     "data": {
      "text/plain": [
       "63"
      ]
     },
     "execution_count": 47,
     "metadata": {},
     "output_type": "execute_result"
    }
   ],
   "source": [
    "Pub_filter('H?rdle')"
   ]
  },
  {
   "cell_type": "code",
   "execution_count": 48,
   "metadata": {},
   "outputs": [
    {
     "data": {
      "text/plain": [
       "2"
      ]
     },
     "execution_count": 48,
     "metadata": {},
     "output_type": "execute_result"
    }
   ],
   "source": [
    "Pub_filter('Breunig')"
   ]
  },
  {
   "cell_type": "code",
   "execution_count": 49,
   "metadata": {},
   "outputs": [
    {
     "data": {
      "text/plain": [
       "6"
      ]
     },
     "execution_count": 49,
     "metadata": {},
     "output_type": "execute_result"
    }
   ],
   "source": [
    "Pub_filter('Burda')"
   ]
  },
  {
   "cell_type": "code",
   "execution_count": 50,
   "metadata": {},
   "outputs": [
    {
     "data": {
      "text/plain": [
       "9"
      ]
     },
     "execution_count": 50,
     "metadata": {},
     "output_type": "execute_result"
    }
   ],
   "source": [
    "Pub_filter('Fitzenberger')"
   ]
  },
  {
   "cell_type": "code",
   "execution_count": 51,
   "metadata": {},
   "outputs": [
    {
     "data": {
      "text/plain": [
       "7"
      ]
     },
     "execution_count": 51,
     "metadata": {},
     "output_type": "execute_result"
    }
   ],
   "source": [
    "Pub_filter('Lessmann')"
   ]
  },
  {
   "cell_type": "code",
   "execution_count": 52,
   "metadata": {},
   "outputs": [
    {
     "data": {
      "text/plain": [
       "0"
      ]
     },
     "execution_count": 52,
     "metadata": {},
     "output_type": "execute_result"
    }
   ],
   "source": [
    "Pub_filter('Reiss')"
   ]
  },
  {
   "cell_type": "code",
   "execution_count": 54,
   "metadata": {},
   "outputs": [
    {
     "data": {
      "text/plain": [
       "15"
      ]
     },
     "execution_count": 54,
     "metadata": {},
     "output_type": "execute_result"
    }
   ],
   "source": [
    "Pub_filter('Cabrera')"
   ]
  },
  {
   "cell_type": "code",
   "execution_count": 55,
   "metadata": {},
   "outputs": [
    {
     "data": {
      "text/plain": [
       "13"
      ]
     },
     "execution_count": 55,
     "metadata": {},
     "output_type": "execute_result"
    }
   ],
   "source": [
    "Pub_filter('Spokoiny')"
   ]
  },
  {
   "cell_type": "code",
   "execution_count": 58,
   "metadata": {},
   "outputs": [
    {
     "data": {
      "text/plain": [
       "14"
      ]
     },
     "execution_count": 58,
     "metadata": {},
     "output_type": "execute_result"
    }
   ],
   "source": [
    "Pub_filter('Wang W')"
   ]
  },
  {
   "cell_type": "code",
   "execution_count": 59,
   "metadata": {},
   "outputs": [
    {
     "data": {
      "text/plain": [
       "4"
      ]
     },
     "execution_count": 59,
     "metadata": {},
     "output_type": "execute_result"
    }
   ],
   "source": [
    "Pub_filter('Winkelmann')"
   ]
  },
  {
   "cell_type": "code",
   "execution_count": null,
   "metadata": {},
   "outputs": [],
   "source": []
  }
 ],
 "metadata": {
  "kernelspec": {
   "display_name": "Python 3",
   "language": "python",
   "name": "python3"
  },
  "language_info": {
   "codemirror_mode": {
    "name": "ipython",
    "version": 3
   },
   "file_extension": ".py",
   "mimetype": "text/x-python",
   "name": "python",
   "nbconvert_exporter": "python",
   "pygments_lexer": "ipython3",
   "version": "3.6.4"
  }
 },
 "nbformat": 4,
 "nbformat_minor": 2
}
